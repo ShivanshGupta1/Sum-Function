{
  "nbformat": 4,
  "nbformat_minor": 0,
  "metadata": {
    "colab": {
      "name": "Sum Function (GitHub) .ipynb",
      "provenance": [],
      "authorship_tag": "ABX9TyNv6P/n719ojqaQAObGYn85",
      "include_colab_link": true
    },
    "kernelspec": {
      "name": "python3",
      "display_name": "Python 3"
    }
  },
  "cells": [
    {
      "cell_type": "markdown",
      "metadata": {
        "id": "view-in-github",
        "colab_type": "text"
      },
      "source": [
        "<a href=\"https://colab.research.google.com/github/ShivanshGupta1/Sum-Function/blob/main/Sum_Function_(GitHub)_.ipynb\" target=\"_parent\"><img src=\"https://colab.research.google.com/assets/colab-badge.svg\" alt=\"Open In Colab\"/></a>"
      ]
    },
    {
      "cell_type": "code",
      "metadata": {
        "id": "TYzOsMcFf8Bj"
      },
      "source": [
        "def sum_digits(num):\n",
        "  sum = 0\n",
        "  while(num>0):\n",
        "    remainder = num%10\n",
        "    sum = sum+remainder\n",
        "    num = num//10\n",
        "  return(sum)\n",
        "num = int(input('Your number is this: '))\n",
        "sum_digits(num)"
      ],
      "execution_count": null,
      "outputs": []
    }
  ]
}